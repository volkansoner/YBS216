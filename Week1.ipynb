{
 "cells": [
  {
   "cell_type": "markdown",
   "id": "8cc3e745",
   "metadata": {},
   "source": [
    "# Python Programlama Diline Giriş (YBS216)\n",
    "### Introduction to Python Programming Language (YBS216)"
   ]
  },
  {
   "cell_type": "markdown",
   "id": "b77fabfe",
   "metadata": {},
   "source": [
    "Doç. Dr. Volkan Soner Özsoy <br>\n",
    "Aksaray Üniversitesi, Yönetim Bilişim Sistemleri Bölümü <br>\n",
    "volkansonerozsoy at aksaray.edu.tr <br>\n",
    "http://volkansoner.github.io"
   ]
  },
  {
   "cell_type": "markdown",
   "id": "eb60e799",
   "metadata": {},
   "source": [
    "# Dersin İçeriği #\n",
    "\n",
    "* Ders 1.\tPython Programlama Diline Giriş\n",
    "* Ders 2.\tAnaconda'nın Tanıtılması\n",
    "* Ders 3.\tVeri Türleri\n",
    "* Ders 4.\tVeri Girişi ve Fonksiyonlar\n",
    "* Ders 5.\tKoşul Yapıları\n",
    "* Ders 6.\tDiziler ve Matrisler \n",
    "* Ders 7.\tMatematiksel Fonksiyonlar\n",
    "* Ders 8.\tVeri Manipülasyonu ve Analizi\n",
    "* Ders 9.\tVeri Üretme Süreçleri\n",
    "* Ders 10.\tVeri Ön İşleme\n",
    "* Ders 11.\tVeri Dönüştürme\n",
    "* Ders 12.\tNormalleştirme ve Standardizasyon\n",
    "* Ders 13.\tTemel Algoritmalar\n",
    "* Ders 14.\tTemel Algoritmalar"
   ]
  },
  {
   "cell_type": "markdown",
   "id": "2a7945fe",
   "metadata": {},
   "source": [
    "# Dersin Amacı\n",
    "\n",
    "Bu ders Aksaray Üniversitesi, Yönetim Bilişim Sistemleri Bölümünün bir lisans dersi olup, temel amacı öğrencilere Python Programlama dilini kullanabilmek için gerekli temel bilgileri sağlamak, dijital teknolojiler aracılığıyla ortaya çıkan farklı yapıdaki veri türlerini tanıtmak ve Python programla diline ait istatistik ile ilişkili kütüphanelerini kullanabilmek için gerekli temel bilgileri sağlamaktır. "
   ]
  },
  {
   "cell_type": "markdown",
   "id": "b55ab139",
   "metadata": {},
   "source": [
    "# Yöntem\n",
    "\n",
    "Python'ın temel seviyede kullanabilmek için öğrencilerin derste öğrendiği konuları bireysel hazırladıkları kodlar ile uygulamalı bir şekilde öğrenmesi hedeflenmektedir. Ara sınavların değerlendirilmesine katkı sağlayacak kısa sınavlar ders içerisinde verilecektir. Derste Juypter Notebook platformu kullanılacak olup ders nortları da bunlardan oluşacaktır."
   ]
  },
  {
   "cell_type": "markdown",
   "id": "b1184f79",
   "metadata": {},
   "source": [
    "# Dersin İşlenişi\n",
    "\n",
    "Python Programlama Diline Giriş (YBS216) dersi 6 AKTS kredi ve haftada 3 saatlik (Cuma günleri, 09:00-11:50) bir programdan oluşmaktadır. Dersin notlandırması\n",
    "\n",
    "* Ara Sınav (%40)\n",
    "* Final Sınavı (%60)\n",
    "\n",
    "üzerinden yapılacaktır."
   ]
  },
  {
   "cell_type": "markdown",
   "id": "c723992d",
   "metadata": {},
   "source": [
    "[Başa Dön](#Dersin-İçeriği)"
   ]
  },
  {
   "cell_type": "markdown",
   "id": "369226ab",
   "metadata": {},
   "source": [
    "### Ders1 - Python Programlama Diline Giriş ##"
   ]
  },
  {
   "cell_type": "markdown",
   "id": "d87aee5f",
   "metadata": {},
   "source": [
    "### Python nedir?\n",
    "* Python yorumlanmış, üst düzey ve genel amaçlı bir programlama dilidir.\n",
    "* Nesne yönelimli yaklaşım programcıların anlaşılır yazmalarına yardımcı olmayı amaçlamaktadır.\n",
    "* Dinamik olarak yazılan Python 1980'lerin sonunda Guido van Rossum tarafından geliştirildi."
   ]
  },
  {
   "cell_type": "markdown",
   "id": "1ef7653f",
   "metadata": {},
   "source": [
    "### Python ile ilgili kaynaklar \n",
    "\n",
    "* https://colab.research.google.com/\n",
    "* https://pythontutor.com/visualize.html#mode=edit\n",
    "* https://algoleague.com/contest/muh101-introduction-to-programming-spring-2023-ungraded-practice-contest/description\n",
    "* https://docs.python.org/3/tutorial/\n",
    "* https://www.w3schools.com/python/\n",
    "* https://www.programiz.com/python-programming/\n",
    "* https://www.learnpython.org/\n",
    "* https://www.pythontutorial.net/\n",
    "* https://www.w3resource.com/python-exercises/\n",
    "* https://pynative.com/python-exercises-with-solutions/\n",
    "* https://www.practicepython.org/"
   ]
  }
 ],
 "metadata": {
  "kernelspec": {
   "display_name": "Python 3 (ipykernel)",
   "language": "python",
   "name": "python3"
  },
  "language_info": {
   "codemirror_mode": {
    "name": "ipython",
    "version": 3
   },
   "file_extension": ".py",
   "mimetype": "text/x-python",
   "name": "python",
   "nbconvert_exporter": "python",
   "pygments_lexer": "ipython3",
   "version": "3.11.7"
  }
 },
 "nbformat": 4,
 "nbformat_minor": 5
}
